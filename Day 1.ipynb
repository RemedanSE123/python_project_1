{
 "cells": [
  {
   "cell_type": "code",
   "execution_count": 1,
   "id": "2889cbdf-7556-49a8-8457-3c9a1b63381b",
   "metadata": {},
   "outputs": [
    {
     "name": "stdout",
     "output_type": "stream",
     "text": [
      "Loading data... attempt 1\n",
      "Loading data... attempt 2\n",
      "Loading data... attempt 3\n"
     ]
    }
   ],
   "source": [
    "count = 0\n",
    "\n",
    "while count < 3:\n",
    "    print(\"Loading data... attempt\", count + 1)\n",
    "    count += 1\n"
   ]
  },
  {
   "cell_type": "code",
   "execution_count": 2,
   "id": "6822e88d-1db3-4573-8fcb-03496baa886e",
   "metadata": {},
   "outputs": [
    {
     "name": "stdout",
     "output_type": "stream",
     "text": [
      "rem high value\n",
      "rem2 low value\n",
      "rem4 regular\n"
     ]
    }
   ],
   "source": [
    "clients = [\n",
    "{\"name\":\"rem\",\"age\":35,\"spend\":5000},\n",
    "{\"name\":\"rem2\",\"age\":25,\"spend\":50},\n",
    "{\"name\":\"rem3\",\"age\":35,\"spend\":0},\n",
    "{\"name\":\"rem4\",\"age\":25,\"spend\":5000},\n",
    "]\n",
    "for client in clients:\n",
    "    if client[\"age\"] > 30 and client[\"spend\"] > 1000:\n",
    "        print (client[\"name\"],\"high value\")\n",
    "    elif  client[\"age\"] < 30 and client[\"spend\"] < 1000:\n",
    "        print(client[\"name\"],\"low value\")\n",
    "    elif client[\"spend\"] == 0:\n",
    "        continue\n",
    "    else:\n",
    "        print(client[\"name\"],\"regular\")"
   ]
  },
  {
   "cell_type": "code",
   "execution_count": null,
   "id": "0bbe21e0-20f3-40da-b742-e36339f1b1ec",
   "metadata": {},
   "outputs": [],
   "source": []
  },
  {
   "cell_type": "code",
   "execution_count": null,
   "id": "ec7800ea-58b4-489d-a233-f3488e266673",
   "metadata": {},
   "outputs": [],
   "source": []
  },
  {
   "cell_type": "code",
   "execution_count": null,
   "id": "65bd4258-b58e-4f3e-9392-65a38c4e20f6",
   "metadata": {},
   "outputs": [],
   "source": []
  },
  {
   "cell_type": "code",
   "execution_count": null,
   "id": "541eeb94-b158-44c4-9da5-65304e25d2a8",
   "metadata": {},
   "outputs": [],
   "source": []
  },
  {
   "cell_type": "code",
   "execution_count": null,
   "id": "22174add-1fdf-4c97-bf6a-e9f5826c0e94",
   "metadata": {},
   "outputs": [],
   "source": []
  },
  {
   "cell_type": "code",
   "execution_count": null,
   "id": "150fa814-cbfa-4fbe-ba3d-4a78beb040ed",
   "metadata": {},
   "outputs": [],
   "source": []
  },
  {
   "cell_type": "code",
   "execution_count": null,
   "id": "b4f37f5f-f4a0-4250-8279-ba8c23c8d244",
   "metadata": {},
   "outputs": [],
   "source": []
  }
 ],
 "metadata": {
  "kernelspec": {
   "display_name": "Python 3 (ipykernel)",
   "language": "python",
   "name": "python3"
  },
  "language_info": {
   "codemirror_mode": {
    "name": "ipython",
    "version": 3
   },
   "file_extension": ".py",
   "mimetype": "text/x-python",
   "name": "python",
   "nbconvert_exporter": "python",
   "pygments_lexer": "ipython3",
   "version": "3.13.1"
  }
 },
 "nbformat": 4,
 "nbformat_minor": 5
}
