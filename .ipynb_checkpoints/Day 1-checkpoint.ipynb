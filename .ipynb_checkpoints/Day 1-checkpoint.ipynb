{
 "cells": [
  {
   "cell_type": "code",
   "execution_count": 1,
   "id": "2889cbdf-7556-49a8-8457-3c9a1b63381b",
   "metadata": {},
   "outputs": [
    {
     "name": "stdout",
     "output_type": "stream",
     "text": [
      "Loading data... attempt 1\n",
      "Loading data... attempt 2\n",
      "Loading data... attempt 3\n"
     ]
    }
   ],
   "source": [
    "count = 0\n",
    "\n",
    "while count < 3:\n",
    "    print(\"Loading data... attempt\", count + 1)\n",
    "    count += 1\n"
   ]
  },
  {
   "cell_type": "code",
   "execution_count": 2,
   "id": "6822e88d-1db3-4573-8fcb-03496baa886e",
   "metadata": {},
   "outputs": [
    {
     "name": "stdout",
     "output_type": "stream",
     "text": [
      "rem high value\n",
      "rem2 low value\n",
      "rem4 regular\n"
     ]
    }
   ],
   "source": [
    "clients = [\n",
    "{\"name\":\"rem\",\"age\":35,\"spend\":5000},\n",
    "{\"name\":\"rem2\",\"age\":25,\"spend\":50},\n",
    "{\"name\":\"rem3\",\"age\":35,\"spend\":0},\n",
    "{\"name\":\"rem4\",\"age\":25,\"spend\":5000},\n",
    "]\n",
    "for client in clients:\n",
    "    if client[\"age\"] > 30 and client[\"spend\"] > 1000:\n",
    "        print (client[\"name\"],\"high value\")\n",
    "    elif  client[\"age\"] < 30 and client[\"spend\"] < 1000:\n",
    "        print(client[\"name\"],\"low value\")\n",
    "    elif client[\"spend\"] == 0:\n",
    "        continue\n",
    "    else:\n",
    "        print(client[\"name\"],\"regular\")"
   ]
  },
  {
   "cell_type": "code",
   "execution_count": 4,
   "id": "65bd4258-b58e-4f3e-9392-65a38c4e20f6",
   "metadata": {},
   "outputs": [
    {
     "name": "stdin",
     "output_type": "stream",
     "text": [
      "Enter your age:  5\n"
     ]
    },
    {
     "name": "stdout",
     "output_type": "stream",
     "text": [
      "Your age is 5\n"
     ]
    }
   ],
   "source": [
    "age = input(\"Enter your age: \")\n",
    "\n",
    "while not age.isdigit():\n",
    "    print(\"Please enter a valid number.\")\n",
    "    age = input(\"Enter your age: \")\n",
    "\n",
    "age = int(age)\n",
    "print(\"Your age is\", age)\n"
   ]
  },
  {
   "cell_type": "code",
   "execution_count": 7,
   "id": "541eeb94-b158-44c4-9da5-65304e25d2a8",
   "metadata": {},
   "outputs": [
    {
     "data": {
      "text/plain": [
       "'REMESDFGHJKLDAN'"
      ]
     },
     "execution_count": 7,
     "metadata": {},
     "output_type": "execute_result"
    }
   ],
   "source": [
    "def clean_column(name):\n",
    "    return name.strip().upper()\n",
    "\n",
    "clean_column(\" RemeSDFGHJKLdan \")  # Output: remedan\n"
   ]
  },
  {
   "cell_type": "code",
   "execution_count": 13,
   "id": "150fa814-cbfa-4fbe-ba3d-4a78beb040ed",
   "metadata": {},
   "outputs": [
    {
     "name": "stdout",
     "output_type": "stream",
     "text": [
      "350\n"
     ]
    }
   ],
   "source": [
    "def total_spend(spend_list):\n",
    "    return sum(spend_list)\n",
    "\n",
    "result = total_spend([100, 200, 50])\n",
    "print(result)  # Output: 350\n"
   ]
  },
  {
   "cell_type": "code",
   "execution_count": 14,
   "id": "b4f37f5f-f4a0-4250-8279-ba8c23c8d244",
   "metadata": {},
   "outputs": [
    {
     "data": {
      "text/plain": [
       "350"
      ]
     },
     "execution_count": 14,
     "metadata": {},
     "output_type": "execute_result"
    }
   ],
   "source": [
    "def total_spend(spend_list):\n",
    "    return sum(spend_list)\n",
    "\n",
    "result = total_spend([100, 200, 50])\n",
    "result  # Output: 350\n"
   ]
  },
  {
   "cell_type": "code",
   "execution_count": 21,
   "id": "10daba04-1698-420f-818f-611000bbfb6a",
   "metadata": {},
   "outputs": [
    {
     "data": {
      "text/plain": [
       "350"
      ]
     },
     "execution_count": 21,
     "metadata": {},
     "output_type": "execute_result"
    }
   ],
   "source": [
    "def total_spend(spend_list):\n",
    "    return sum(spend_list)\n",
    "\n",
    "total_spend([100, 200, 50])\n"
   ]
  },
  {
   "cell_type": "code",
   "execution_count": 1,
   "id": "23268486-bca3-49b1-9d74-7cd4f4823b25",
   "metadata": {},
   "outputs": [
    {
     "name": "stdout",
     "output_type": "stream",
     "text": [
      "Original: [50, 80, 120]\n",
      "Discounted: [40.0, 64.0, 96.0]\n"
     ]
    }
   ],
   "source": [
    "prices = [50, 80, 120]\n",
    "\n",
    "# Add a 20% discount to each price\n",
    "discounted = list(map(lambda p: p * 0.8, prices))\n",
    "\n",
    "print(\"Original:\", prices)\n",
    "print(\"Discounted:\", discounted)\n"
   ]
  },
  {
   "cell_type": "code",
   "execution_count": 3,
   "id": "8a84b1b1-44ff-422d-84cf-a82e3a44cdbf",
   "metadata": {},
   "outputs": [
    {
     "name": "stdout",
     "output_type": "stream",
     "text": [
      "10\n",
      "100\n"
     ]
    }
   ],
   "source": [
    "x = 100  # global\n",
    "\n",
    "def multiply():\n",
    "    x = 5  # local\n",
    "    return x * 2\n",
    "\n",
    "print(multiply())  # 10\n",
    "print(x)  # 10\n"
   ]
  },
  {
   "cell_type": "code",
   "execution_count": 13,
   "id": "06feb7e2-00ed-4383-ae92-7bea6076969f",
   "metadata": {},
   "outputs": [
    {
     "name": "stdout",
     "output_type": "stream",
     "text": [
      "120\n"
     ]
    }
   ],
   "source": [
    "def factorial(n):\n",
    "    if n == 1:\n",
    "        return 1\n",
    "    else:\n",
    "        return n * factorial(n - 1)\n",
    "\n",
    "print(factorial(5))  # Output: 120\n"
   ]
  },
  {
   "cell_type": "code",
   "execution_count": 15,
   "id": "7efd5b42-766e-49d1-a0f5-f0e076951972",
   "metadata": {},
   "outputs": [
    {
     "name": "stdout",
     "output_type": "stream",
     "text": [
      "Average daily sales 438.0\n"
     ]
    }
   ],
   "source": [
    "daily_sales = [230, 450, 390, 610, 510]\n",
    "average_sales = sum(daily_sales) / len(daily_sales)\n",
    "print(\"Average daily sales\",average_sales)\n"
   ]
  },
  {
   "cell_type": "code",
   "execution_count": 17,
   "id": "1ea64837-227e-4256-b474-a5cddb806375",
   "metadata": {},
   "outputs": [
    {
     "name": "stdout",
     "output_type": "stream",
     "text": [
      "Latitude: 35.2 Longitude: 9.3\n",
      "Latitude: 35.3 Longitude: 9.5\n",
      "Latitude: 35.5 Longitude: 9.8\n"
     ]
    }
   ],
   "source": [
    "coordinates = [(35.2, 9.3), (35.3, 9.5), (35.5, 9.8)]  # List of tuples\n",
    "for lat, lon in coordinates:\n",
    "    print(\"Latitude:\",lat, \"Longitude:\",lon)\n"
   ]
  },
  {
   "cell_type": "code",
   "execution_count": 18,
   "id": "f4b8ff8e-f73c-4502-b7f4-bc02cba44605",
   "metadata": {},
   "outputs": [
    {
     "name": "stdout",
     "output_type": "stream",
     "text": [
      "Hana is a premium client.\n"
     ]
    }
   ],
   "source": [
    "clients = [\n",
    "    {\"name\": \"Ali\", \"spend\": 4000},\n",
    "    {\"name\": \"Hana\", \"spend\": 9000}\n",
    "]\n",
    "for client in clients:\n",
    "    if client[\"spend\"] > 5000:\n",
    "        print(client[\"name\"], \"is a premium client.\")\n"
   ]
  },
  {
   "cell_type": "code",
   "execution_count": 21,
   "id": "38d0fcc5-a688-4702-9c6c-67dd8002213e",
   "metadata": {},
   "outputs": [
    {
     "name": "stdout",
     "output_type": "stream",
     "text": [
      "with open(\"data.txt\", \"r\") as file:\n",
      "    content = file.read()\n",
      "    print(content)\n",
      "clients = [\n",
      "    {\"name\": \"Ali\", \"spend\": 4000},\n",
      "    {\"name\": \"Hana\", \"spend\": 9000}\n",
      "]\n",
      "for client in clients:\n",
      "    if client[\"spend\"] > 5000:\n",
      "        print(client[\"name\"], \"is a premium client.\")\n",
      "\n"
     ]
    }
   ],
   "source": [
    "with open(\"data.txt\", \"r\") as file:\n",
    "    content = file.read()\n",
    "    print(content)\n"
   ]
  },
  {
   "cell_type": "code",
   "execution_count": 22,
   "id": "c1330d77-9b9c-4df3-8ebd-e95335bbceea",
   "metadata": {},
   "outputs": [
    {
     "name": "stdout",
     "output_type": "stream",
     "text": [
      "with open(\"data.txt\", \"r\") as file:\n",
      "content = file.read()\n",
      "print(content)\n",
      "clients = [\n",
      "{\"name\": \"Ali\", \"spend\": 4000},\n",
      "{\"name\": \"Hana\", \"spend\": 9000}\n",
      "]\n",
      "for client in clients:\n",
      "if client[\"spend\"] > 5000:\n",
      "print(client[\"name\"], \"is a premium client.\")\n"
     ]
    }
   ],
   "source": [
    "with open(\"data.txt\", \"r\") as file:\n",
    "    for line in file:\n",
    "        print(line.strip())\n"
   ]
  },
  {
   "cell_type": "code",
   "execution_count": 23,
   "id": "c3386a86-f702-4754-ad97-9fc12cf07665",
   "metadata": {},
   "outputs": [],
   "source": [
    "with open(\"data.txt\", \"w\") as file:\n",
    "    file.write(\"Hello, this is a data science log.\\n\")\n"
   ]
  },
  {
   "cell_type": "code",
   "execution_count": 24,
   "id": "9e2c9e85-dd91-48c9-ab06-1e85b28a3147",
   "metadata": {},
   "outputs": [
    {
     "name": "stdout",
     "output_type": "stream",
     "text": [
      "Hello, this is a data science log.\n",
      "\n"
     ]
    }
   ],
   "source": [
    "with open(\"data.txt\", \"r\") as file:\n",
    "    content = file.read()\n",
    "    print(content)\n"
   ]
  },
  {
   "cell_type": "code",
   "execution_count": 33,
   "id": "467a728a-7ec6-4466-8cdc-17ae467e6c1c",
   "metadata": {},
   "outputs": [],
   "source": [
    "with open(\"data.txt\", \"a\") as file:\n",
    "    file.write(\"Hello, this is a data sciencgtggggggggggggggggge log.\\n\")\n"
   ]
  },
  {
   "cell_type": "code",
   "execution_count": 34,
   "id": "ec8edf70-15b9-4722-908a-fdfe61b74878",
   "metadata": {},
   "outputs": [
    {
     "name": "stdout",
     "output_type": "stream",
     "text": [
      "4. Sets Hello, this is a data science log.\n",
      "with open(\"data.txt\", \"r\") as file:\n",
      "    content = file.read()\n",
      "    print(content)\n",
      "Hello, this is a data science log.\n",
      "Hello, this is a data sciencgtggggggggggggggggge log.\n",
      "Hello, this is a data sciencgtggggggggggggggggge log.\n",
      "Hello, this is a data sciencgtggggggggggggggggge log.\n",
      "Hello, this is a data sciencgtggggggggggggggggge log.\n",
      "\n"
     ]
    }
   ],
   "source": [
    "with open(\"data.txt\", \"r\") as file:\n",
    "    content = file.read()\n",
    "    print(content)\n"
   ]
  },
  {
   "cell_type": "code",
   "execution_count": 39,
   "id": "ffb60413-f8f7-4373-9db3-075ae86869f8",
   "metadata": {},
   "outputs": [
    {
     "name": "stdout",
     "output_type": "stream",
     "text": [
      "Addis Ababa ET14\n",
      "Afar ET02\n",
      "Amhara ET03\n",
      "Benishangul Gumz ET06\n",
      "Central Ethiopia ET08\n",
      "Dire Dawa ET15\n",
      "Gambela ET12\n",
      "Harari ET13\n",
      "Oromia ET04\n",
      "Sidama ET16\n",
      "Somali ET05\n",
      "South Ethiopia ET07\n",
      "South West Ethiopia ET11\n",
      "Tigray ET01\n"
     ]
    }
   ],
   "source": [
    "import csv\n",
    "\n",
    "with open(\"Region Data.csv\", \"r\") as f:\n",
    "    reader = csv.DictReader(f)\n",
    "    for row in reader:\n",
    "        print(row[\"ADM1_EN\"], row[\"ADM1_PCODE\"])\n"
   ]
  },
  {
   "cell_type": "code",
   "execution_count": 40,
   "id": "85b8d539-0453-4694-8ad4-387f0536d6dc",
   "metadata": {},
   "outputs": [
    {
     "name": "stdout",
     "output_type": "stream",
     "text": [
      "                ADM1_EN ADM1_PCODE  Kindergarten Schools  \\\n",
      "0           Addis Ababa       ET14                1133.0   \n",
      "1                  Afar       ET02                  65.0   \n",
      "2                Amhara       ET03                 564.0   \n",
      "3      Benishangul Gumz       ET06                  48.0   \n",
      "4      Central Ethiopia       ET08                 372.0   \n",
      "5             Dire Dawa       ET15                  64.0   \n",
      "6               Gambela       ET12                  44.0   \n",
      "7                Harari       ET13                  59.0   \n",
      "8                Oromia       ET04               11703.0   \n",
      "9                Sidama       ET16                 301.0   \n",
      "10               Somali       ET05                  92.0   \n",
      "11       South Ethiopia       ET07                 344.0   \n",
      "12  South West Ethiopia       ET11                 120.0   \n",
      "13               Tigray       ET01                   NaN   \n",
      "\n",
      "    Primary & Middle Schools  Secondary Schools  \\\n",
      "0                      792.0              226.0   \n",
      "1                      825.0               56.0   \n",
      "2                     9604.0              685.0   \n",
      "3                      617.0               93.0   \n",
      "4                     2033.0              295.0   \n",
      "5                      145.0               33.0   \n",
      "6                      311.0               75.0   \n",
      "7                       89.0               18.0   \n",
      "8                    15315.0             1369.0   \n",
      "9                     1334.0              122.0   \n",
      "10                    2126.0              272.0   \n",
      "11                    2573.0              336.0   \n",
      "12                    1551.0              182.0   \n",
      "13                       NaN                NaN   \n",
      "\n",
      "    Primary/Middle Schools with Electricity  \\\n",
      "0                                     706.0   \n",
      "1                                      79.0   \n",
      "2                                    2051.0   \n",
      "3                                     108.0   \n",
      "4                                     894.0   \n",
      "5                                     100.0   \n",
      "6                                      91.0   \n",
      "7                                      64.0   \n",
      "8                                    4601.0   \n",
      "9                                     522.0   \n",
      "10                                    201.0   \n",
      "11                                    866.0   \n",
      "12                                    332.0   \n",
      "13                                      NaN   \n",
      "\n",
      "    Primary/Middle Schools with Water  Primary/Middle Schools with Library  \\\n",
      "0                               701.0                                688.0   \n",
      "1                                78.0                                 32.0   \n",
      "2                               774.0                               3446.0   \n",
      "3                               129.0                                 82.0   \n",
      "4                               623.0                               1010.0   \n",
      "5                               104.0                                 87.0   \n",
      "6                                48.0                                 39.0   \n",
      "7                                40.0                                 46.0   \n",
      "8                              5331.0                               6443.0   \n",
      "9                               406.0                                771.0   \n",
      "10                              142.0                                 17.0   \n",
      "11                              741.0                               1079.0   \n",
      "12                              278.0                                705.0   \n",
      "13                                NaN                                  NaN   \n",
      "\n",
      "    Primary/Middle Schools with Lab  Primary/Middle Schools with Peda Center  \\\n",
      "0                             583.0                                    666.0   \n",
      "1                              14.0                                     27.0   \n",
      "2                            1125.0                                   3828.0   \n",
      "3                              14.0                                    171.0   \n",
      "4                             472.0                                    911.0   \n",
      "5                              23.0                                     81.0   \n",
      "6                               6.0                                     31.0   \n",
      "7                              30.0                                     24.0   \n",
      "8                             869.0                                   3828.0   \n",
      "9                             326.0                                    415.0   \n",
      "10                             14.0                                     42.0   \n",
      "11                            468.0                                    913.0   \n",
      "12                            147.0                                    829.0   \n",
      "13                              NaN                                      NaN   \n",
      "\n",
      "    Secondary Schools with Electricity  Secondary Schools with Water  \\\n",
      "0                                201.0                         211.0   \n",
      "1                                 16.0                          10.0   \n",
      "2                                435.0                         166.0   \n",
      "3                                 37.0                          24.0   \n",
      "4                                245.0                         159.0   \n",
      "5                                 30.0                          30.0   \n",
      "6                                 28.0                           9.0   \n",
      "7                                 12.0                          10.0   \n",
      "8                               1104.0                         820.0   \n",
      "9                                 96.0                          74.0   \n",
      "10                                68.0                          57.0   \n",
      "11                               249.0                         172.0   \n",
      "12                               140.0                          55.0   \n",
      "13                                 NaN                           NaN   \n",
      "\n",
      "    Secondary Schools with Library  Secondary Schools with Peda Center  \\\n",
      "0                            196.0                               156.0   \n",
      "1                              8.0                                 6.0   \n",
      "2                            396.0                               296.0   \n",
      "3                             28.0                                32.0   \n",
      "4                            214.0                               182.0   \n",
      "5                             28.0                                21.0   \n",
      "6                             14.0                                 6.0   \n",
      "7                             11.0                                 8.0   \n",
      "8                           1045.0                               648.0   \n",
      "9                            113.0                                82.0   \n",
      "10                            29.0                                11.0   \n",
      "11                           243.0                               196.0   \n",
      "12                           136.0                               132.0   \n",
      "13                             NaN                                 NaN   \n",
      "\n",
      "    Total Teachers  Total Students   \n",
      "0          64449.0        1294610.0  \n",
      "1           7393.0         253258.0  \n",
      "2         200047.0        3617711.0  \n",
      "3           9858.0         326362.0  \n",
      "4          46844.0        2136372.0  \n",
      "5           4338.0         148559.0  \n",
      "6           5927.0         208737.0  \n",
      "7           3036.0          87947.0  \n",
      "8         252762.0       11992342.0  \n",
      "9          44209.0        1400835.0  \n",
      "10         18615.0         973631.0  \n",
      "11         64137.0        2559297.0  \n",
      "12         32501.0        1254865.0  \n",
      "13             NaN              NaN  \n"
     ]
    }
   ],
   "source": [
    "import pandas as pd\n",
    "\n",
    "# Read the full Excel file\n",
    "df = pd.read_excel(\"Region Data.xlsx\")\n",
    "\n",
    "# Print the entire DataFrame\n",
    "print(df)\n"
   ]
  },
  {
   "cell_type": "code",
   "execution_count": 41,
   "id": "7f8f8206-7919-4bf7-b71d-1c70f627c176",
   "metadata": {},
   "outputs": [
    {
     "name": "stdout",
     "output_type": "stream",
     "text": [
      "            ADM1_EN ADM1_PCODE  Kindergarten Schools  Primary & Middle Schools  Secondary Schools  Primary/Middle Schools with Electricity  Primary/Middle Schools with Water  Primary/Middle Schools with Library  Primary/Middle Schools with Lab  Primary/Middle Schools with Peda Center  Secondary Schools with Electricity  Secondary Schools with Water  Secondary Schools with Library  Secondary Schools with Peda Center  Total Teachers  Total Students \n",
      "        Addis Ababa       ET14                1133.0                     792.0              226.0                                    706.0                              701.0                                688.0                            583.0                                    666.0                               201.0                         211.0                           196.0                               156.0         64449.0        1294610.0\n",
      "               Afar       ET02                  65.0                     825.0               56.0                                     79.0                               78.0                                 32.0                             14.0                                     27.0                                16.0                          10.0                             8.0                                 6.0          7393.0         253258.0\n",
      "             Amhara       ET03                 564.0                    9604.0              685.0                                   2051.0                              774.0                               3446.0                           1125.0                                   3828.0                               435.0                         166.0                           396.0                               296.0        200047.0        3617711.0\n",
      "   Benishangul Gumz       ET06                  48.0                     617.0               93.0                                    108.0                              129.0                                 82.0                             14.0                                    171.0                                37.0                          24.0                            28.0                                32.0          9858.0         326362.0\n",
      "   Central Ethiopia       ET08                 372.0                    2033.0              295.0                                    894.0                              623.0                               1010.0                            472.0                                    911.0                               245.0                         159.0                           214.0                               182.0         46844.0        2136372.0\n",
      "          Dire Dawa       ET15                  64.0                     145.0               33.0                                    100.0                              104.0                                 87.0                             23.0                                     81.0                                30.0                          30.0                            28.0                                21.0          4338.0         148559.0\n",
      "            Gambela       ET12                  44.0                     311.0               75.0                                     91.0                               48.0                                 39.0                              6.0                                     31.0                                28.0                           9.0                            14.0                                 6.0          5927.0         208737.0\n",
      "             Harari       ET13                  59.0                      89.0               18.0                                     64.0                               40.0                                 46.0                             30.0                                     24.0                                12.0                          10.0                            11.0                                 8.0          3036.0          87947.0\n",
      "             Oromia       ET04               11703.0                   15315.0             1369.0                                   4601.0                             5331.0                               6443.0                            869.0                                   3828.0                              1104.0                         820.0                          1045.0                               648.0        252762.0       11992342.0\n",
      "             Sidama       ET16                 301.0                    1334.0              122.0                                    522.0                              406.0                                771.0                            326.0                                    415.0                                96.0                          74.0                           113.0                                82.0         44209.0        1400835.0\n",
      "             Somali       ET05                  92.0                    2126.0              272.0                                    201.0                              142.0                                 17.0                             14.0                                     42.0                                68.0                          57.0                            29.0                                11.0         18615.0         973631.0\n",
      "     South Ethiopia       ET07                 344.0                    2573.0              336.0                                    866.0                              741.0                               1079.0                            468.0                                    913.0                               249.0                         172.0                           243.0                               196.0         64137.0        2559297.0\n",
      "South West Ethiopia       ET11                 120.0                    1551.0              182.0                                    332.0                              278.0                                705.0                            147.0                                    829.0                               140.0                          55.0                           136.0                               132.0         32501.0        1254865.0\n",
      "             Tigray       ET01                   NaN                       NaN                NaN                                      NaN                                NaN                                  NaN                              NaN                                      NaN                                 NaN                           NaN                             NaN                                 NaN             NaN              NaN\n"
     ]
    }
   ],
   "source": [
    "import pandas as pd\n",
    "\n",
    "df = pd.read_excel(\"Region Data.xlsx\")\n",
    "\n",
    "# Print the full DataFrame as a clean table\n",
    "print(df.to_string(index=False))  # Removes the row numbers (index)\n"
   ]
  },
  {
   "cell_type": "code",
   "execution_count": 51,
   "id": "306983b8-987e-47aa-a7c5-e04d82867c6e",
   "metadata": {},
   "outputs": [
    {
     "name": "stdout",
     "output_type": "stream",
     "text": [
      "ADM1_EN,ADM1_PCODE,Kindergarten Schools,Primary & Middle Schools,Secondary Schools,Primary/Middle Schools with Electricity,Primary/Middle Schools with Water,Primary/Middle Schools with Library,Primary/Middle Schools with Lab,Primary/Middle Schools with Peda Center,Secondary Schools with Electricity,Secondary Schools with Water,Secondary Schools with Library,Secondary Schools with Peda Center,Total Teachers,Total Students ,,,,,,,,,,,,,,,,,,,,,,,,,,,,,,,,,\n",
      "Addis Ababa,ET14,1133,792,226,706,701,688,583,666,201,211,196,156,\"64,449\",1294610,,,,,,,,,,,,,,,,,,,,,,,,,,,,,,,,,\n",
      "Afar,ET02,65,825,56,79,78,32,14,27,16,10,8,6,\"7,393\",253258,,,,,,,,,,,,,,,,,,,,,,,,,,,,,,,,,\n",
      "Amhara,ET03,564,9604,685,\"2,051\",774,\"3,446\",\"1,125\",\"3,828\",435,166,396,296,\"200,047\",3617711,,,,,,,,,,,,,,,,,,,,,,,,,,,,,,,,,\n",
      "Benishangul Gumz,ET06,48,617,93,108,129,82,14,171,37,24,28,32,\"9,858\",326362,,,,,,,,,,,,,,,,,,,,,,,,,,,,,,,,,\n",
      "Central Ethiopia,ET08,372,\"2,033\",295,894,623,\"1,010\",472,911,245,159,214,182,\"46,844\",2136372,,,,,,,,,,,,,,,,,,,,,,,,,,,,,,,,,\n",
      "Dire Dawa,ET15,64,145,33,100,104,87,23,81,30,30,28,21,\"4,338\",148559,,,,,,,,,,,,,,,,,,,,,,,,,,,,,,,,,\n",
      "Gambela,ET12,44,311,75,91,48,39,6,31,28,9,14,6,\"5,927\",208737,,,,,,,,,,,,,,,,,,,,,,,,,,,,,,,,,\n",
      "Harari,ET13,59,89,18,64,40,46,30,24,12,10,11,8,\"3,036\",87947,,,,,,,,,,,,,,,,,,,,,,,,,,,,,,,,,\n",
      "Oromia,ET04,11703,\"15,315\",\"1,369\",4601,\"5,331\",\"6,443\",869,\"3,828\",\"1,104\",820,\"1,045\",648,\"252,762\",11992342,,,,,,,,,,,,,,,,,,,,,,,,,,,,,,,,,\n",
      "Sidama,ET16,301,1334,122,522,406,771,326,415,96,74,113,82,\"44,209\",1400835,,,,,,,,,,,,,,,,,,,,,,,,,,,,,,,,,\n",
      "Somali,ET05,92,2126,272,201,142,17,14,42,68,57,29,11,\"18,615\",973631,,,,,,,,,,,,,,,,,,,,,,,,,,,,,,,,,\n",
      "South Ethiopia,ET07,344,2573,336,866,741,\"1,079\",468,913,249,172,243,196,\"64,137\",2559297,,,,,,,,,,,,,,,,,,,,,,,,,,,,,,,,,\n",
      "South West Ethiopia,ET11,120,1551,182,332,278,705,147,829,140,55,136,132,\"32,501\",1254865,,,,,,,,,,,,,,,,,,,,,,,,,,,,,,,,,\n",
      "Tigray,ET01,,,,,,,,,,,,,,,,,,,,,,,,,,,,,,,,,,,,,,,,,,,,,,,\n",
      "\n"
     ]
    }
   ],
   "source": [
    "try:\n",
    "    with open(\"Region Data.csv\", \"r\") as file:\n",
    "        content = file.read()\n",
    "        print (content)\n",
    "except FileNotFoundError:\n",
    "    print(\"File not found. Please check the path.\")\n"
   ]
  },
  {
   "cell_type": "code",
   "execution_count": null,
   "id": "0d2e3fcd-93d5-42d9-a7a0-6d90bd7312af",
   "metadata": {},
   "outputs": [],
   "source": []
  },
  {
   "cell_type": "code",
   "execution_count": null,
   "id": "f3cef143-34a4-40d6-8e9d-f3cd4241a2f1",
   "metadata": {},
   "outputs": [],
   "source": []
  },
  {
   "cell_type": "code",
   "execution_count": null,
   "id": "5c996862-94f3-4b43-b9b1-1b666f8b6fda",
   "metadata": {},
   "outputs": [],
   "source": []
  },
  {
   "cell_type": "code",
   "execution_count": null,
   "id": "5e3c57ca-3c8c-47bb-a741-7338cf1b5922",
   "metadata": {},
   "outputs": [],
   "source": []
  },
  {
   "cell_type": "code",
   "execution_count": null,
   "id": "5bf64ee2-7fbb-41ea-87de-b587b376f9e7",
   "metadata": {},
   "outputs": [],
   "source": []
  },
  {
   "cell_type": "code",
   "execution_count": null,
   "id": "1482d5e0-e0fe-465a-8145-6d11b3f1e6b5",
   "metadata": {},
   "outputs": [],
   "source": []
  },
  {
   "cell_type": "code",
   "execution_count": null,
   "id": "2c9b089c-8037-4ad7-bed8-d5af0c64793e",
   "metadata": {},
   "outputs": [],
   "source": []
  },
  {
   "cell_type": "code",
   "execution_count": null,
   "id": "0dba0d9b-2623-4287-8de7-7f389b2527ef",
   "metadata": {},
   "outputs": [],
   "source": []
  },
  {
   "cell_type": "code",
   "execution_count": null,
   "id": "de652067-42c2-4dd0-9bca-ef5c0114f3cb",
   "metadata": {},
   "outputs": [],
   "source": []
  },
  {
   "cell_type": "code",
   "execution_count": null,
   "id": "80386799-7698-444a-b389-2474d2c579b0",
   "metadata": {},
   "outputs": [],
   "source": []
  },
  {
   "cell_type": "code",
   "execution_count": null,
   "id": "a1330d67-f795-4ae4-85f0-092b7bb064e4",
   "metadata": {},
   "outputs": [],
   "source": []
  },
  {
   "cell_type": "code",
   "execution_count": null,
   "id": "b2a39a69-1ee9-457b-9f3f-3404d6608f65",
   "metadata": {},
   "outputs": [],
   "source": []
  },
  {
   "cell_type": "code",
   "execution_count": null,
   "id": "3975c1b9-9f3f-4160-8b42-a926c92ad889",
   "metadata": {},
   "outputs": [],
   "source": []
  },
  {
   "cell_type": "code",
   "execution_count": null,
   "id": "1074c625-da9d-420e-85b4-2a7c1a361103",
   "metadata": {},
   "outputs": [],
   "source": []
  }
 ],
 "metadata": {
  "kernelspec": {
   "display_name": "Python 3 (ipykernel)",
   "language": "python",
   "name": "python3"
  },
  "language_info": {
   "codemirror_mode": {
    "name": "ipython",
    "version": 3
   },
   "file_extension": ".py",
   "mimetype": "text/x-python",
   "name": "python",
   "nbconvert_exporter": "python",
   "pygments_lexer": "ipython3",
   "version": "3.13.1"
  }
 },
 "nbformat": 4,
 "nbformat_minor": 5
}
